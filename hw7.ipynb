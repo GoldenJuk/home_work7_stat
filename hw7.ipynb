{
 "cells": [
  {
   "cell_type": "markdown",
   "id": "14aa65b5",
   "metadata": {},
   "source": [
    "***Выберете тест и проверьте, есть ли различия между выборками:***"
   ]
  },
  {
   "cell_type": "markdown",
   "id": "c445bcea",
   "metadata": {},
   "source": [
    "**Задача 1.**\n",
    "\n",
    "   Даны две независимые выборки. Не соблюдается условие нормальности\n",
    "x1 380,420, 290\n",
    "y1 140,360,200,900\n",
    "Сделайте вывод по результатам, полученным с помощью функции, имеются ли статистические различия между группами?"
   ]
  },
  {
   "cell_type": "markdown",
   "id": "f53315ad",
   "metadata": {},
   "source": [
    "Поскольку *две независимые выборки*, используем тест Манна-Уитни."
   ]
  },
  {
   "cell_type": "code",
   "execution_count": 18,
   "id": "d24cb1d1",
   "metadata": {},
   "outputs": [
    {
     "data": {
      "text/plain": [
       "MannwhitneyuResult(statistic=8.0, pvalue=0.6285714285714286)"
      ]
     },
     "execution_count": 18,
     "metadata": {},
     "output_type": "execute_result"
    }
   ],
   "source": [
    "import scipy.stats as stats\n",
    "import numpy as np \n",
    "\n",
    "x1 = np.array([380, 420, 290])\n",
    "y1 = np.array([140, 360, 200, 900])\n",
    "\n",
    "stats.mannwhitneyu(x1, y1)\n"
   ]
  },
  {
   "cell_type": "markdown",
   "id": "0549d313",
   "metadata": {},
   "source": [
    "p-value равно 0.6286, это больше уровня значимости 0.05. Значит нет статистически значимых различий между выборками. "
   ]
  },
  {
   "cell_type": "markdown",
   "id": "7f35fb4f",
   "metadata": {},
   "source": [
    "---"
   ]
  },
  {
   "cell_type": "markdown",
   "id": "73b72385",
   "metadata": {},
   "source": [
    "**Задача 2.**\n",
    "\n",
    "Исследовалось влияние препарата на уровень давления пациентов. Сначала\n",
    "измерялось давление до приема препарата, потом через 10 минут и через 30 минут. Есть\n",
    "ли статистически значимые различия между измерениями давления? В выборках не соблюдается условие нормальности.\n",
    "1е измерение до приема препарата: 150, 160, 165, 145, 155\n",
    "2е измерение через 10 минут: 140, 155, 150, 130, 135\n",
    "3е измерение через 30 минут: 130, 130, 120, 130, 125"
   ]
  },
  {
   "cell_type": "markdown",
   "id": "6b7683f3",
   "metadata": {},
   "source": [
    "Используем анализ повторных измерений. Критерий Фридмана."
   ]
  },
  {
   "cell_type": "code",
   "execution_count": 19,
   "id": "f903e172",
   "metadata": {},
   "outputs": [
    {
     "data": {
      "text/plain": [
       "FriedmanchisquareResult(statistic=9.578947368421062, pvalue=0.00831683351100441)"
      ]
     },
     "execution_count": 19,
     "metadata": {},
     "output_type": "execute_result"
    }
   ],
   "source": [
    "A = np.array([150, 160, 165, 145, 155])\n",
    "B = np.array([140, 155, 150, 130, 135])\n",
    "C = np.array([130, 130, 120, 130, 125])\n",
    "\n",
    "stats.friedmanchisquare(A,B,C)"
   ]
  },
  {
   "cell_type": "markdown",
   "id": "ba3b92e6",
   "metadata": {},
   "source": [
    "p-value равно 0.0083, это меньше уровня значимости 0.05. Значит есть статистически значимые различий между выборками. "
   ]
  },
  {
   "cell_type": "markdown",
   "id": "4f7ab89d",
   "metadata": {},
   "source": [
    "---"
   ]
  },
  {
   "cell_type": "markdown",
   "id": "a9a5ad8d",
   "metadata": {},
   "source": [
    "**Задача 3.**\n",
    "\n",
    "\n",
    "Сравните 1 и 2 е измерения, предполагая, что 3го измерения через 30 минут не было. Есть\n",
    "ли статистически значимые различия между измерениями давления?"
   ]
  },
  {
   "cell_type": "markdown",
   "id": "e5595965",
   "metadata": {},
   "source": [
    "Поскольку *две зависимые выборки*, используем тест Уилкоксона."
   ]
  },
  {
   "cell_type": "code",
   "execution_count": 20,
   "id": "81382798",
   "metadata": {},
   "outputs": [
    {
     "data": {
      "text/plain": [
       "WilcoxonResult(statistic=0.0, pvalue=0.0625)"
      ]
     },
     "execution_count": 20,
     "metadata": {},
     "output_type": "execute_result"
    }
   ],
   "source": [
    "A = np.array([150, 160, 165, 145, 155])\n",
    "B = np.array([140, 155, 150, 130, 135])\n",
    "\n",
    "stats.wilcoxon(A,B)"
   ]
  },
  {
   "cell_type": "markdown",
   "id": "59498876",
   "metadata": {},
   "source": [
    "p-value равно 0.0625, это больше уровня значимости 0.05. Значит нет статистически значимых различий между выборками."
   ]
  },
  {
   "cell_type": "markdown",
   "id": "18995592",
   "metadata": {},
   "source": [
    "---"
   ]
  },
  {
   "cell_type": "markdown",
   "id": "921dac66",
   "metadata": {},
   "source": [
    "**Задача 4.**\n",
    "\n",
    "Даны 3 группы учеников плавания. Не соблюдается условие нормальности.\n",
    "В 1 группе время на дистанцию 50 м составляют:\n",
    "56, 60, 62, 55, 71, 67, 59, 58, 64, 67\n",
    "Вторая группа : 57, 58, 69, 48, 72, 70, 68, 71, 50, 53\n",
    "Третья группа: 57, 67, 49, 48, 47, 55, 66, 51, 54\n",
    "Есть\n",
    "ли статистически значимые различия между группами?"
   ]
  },
  {
   "cell_type": "markdown",
   "id": "c1e9b95d",
   "metadata": {},
   "source": [
    "Поскольку *три независимые выборки*, используем тест Краскела-Уоллиса."
   ]
  },
  {
   "cell_type": "code",
   "execution_count": 21,
   "id": "404f2dd1",
   "metadata": {},
   "outputs": [
    {
     "data": {
      "text/plain": [
       "KruskalResult(statistic=5.465564058257224, pvalue=0.0650380998590494)"
      ]
     },
     "execution_count": 21,
     "metadata": {},
     "output_type": "execute_result"
    }
   ],
   "source": [
    "A = np.array([56, 60, 62, 55, 71, 67, 59, 58, 64, 67])\n",
    "B = np.array([57, 58, 69, 48, 72, 70, 68, 71, 50, 53])\n",
    "C = np.array([57, 67, 49, 48, 47, 55, 66, 51, 54])\n",
    "\n",
    "stats.kruskal(A,B,C)"
   ]
  },
  {
   "cell_type": "markdown",
   "id": "2fb73829",
   "metadata": {},
   "source": [
    "p-value равно 0.0650, это больше уровня значимости 0.05. Значит нет статистически значимых различий между группами.\n",
    "\n"
   ]
  },
  {
   "cell_type": "markdown",
   "id": "b26bafe5",
   "metadata": {},
   "source": [
    "---"
   ]
  },
  {
   "cell_type": "markdown",
   "id": "8ed2046e",
   "metadata": {},
   "source": [
    "**Задача 5.**\n",
    "\n",
    "Заявляется, что партия изготавливается со средним арифметическим 2,5 см. Проверить\n",
    "данную гипотезу, если известно, что размеры изделий подчинены нормальному закону\n",
    "распределения. Объем выборки 10, уровень статистической значимости 5%\n",
    "2.51, 2.35, 2.74, 2.56, 2.40, 2.36, 2.65, 2.7, 2.67, 2.34"
   ]
  },
  {
   "cell_type": "markdown",
   "id": "d06f37da",
   "metadata": {},
   "source": [
    "Поскольку распределение нормальное и 𝞼  генеральной совокупности неизвестна, используем t - критерий (критерий Стьюдента) с учетом уровня значимости α/2 и числа степеней свободы k = n-1:"
   ]
  },
  {
   "cell_type": "markdown",
   "id": "02b1894f",
   "metadata": {},
   "source": [
    "Гипотеза Н0 - среднее значение размеров изделий = 2,5 см\n",
    "\n",
    "Гипотеза Н1 - среднее значение размеров изделий != 2,5 см"
   ]
  },
  {
   "cell_type": "code",
   "execution_count": 22,
   "id": "fa2c5160",
   "metadata": {},
   "outputs": [
    {
     "name": "stdout",
     "output_type": "stream",
     "text": [
      "t-статистика = 0.563\n",
      "Число степеней свободы \"k\" = 9\n"
     ]
    }
   ],
   "source": [
    "mu, alpha, n = 2.5, 0.05/2, 10\n",
    "k = n - 1\n",
    "size = [2.51, 2.35, 2.74, 2.56, 2.40, 2.36, 2.65, 2.7, 2.67, 2.34]\n",
    "x_average = sum(size) / len(size)\n",
    "\n",
    "temp = 0\n",
    "for i in range(len(size)):\n",
    "    temp += (size[i] - x_average)**2\n",
    "sko = (temp / k)**(1/2)\n",
    "t = round((x_average - mu) / (sko/ n**(1/2)),3)\n",
    "\n",
    "print(f't-статистика = {t}')\n",
    "print(f'Число степеней свободы \"k\" = {k}')"
   ]
  },
  {
   "cell_type": "markdown",
   "id": "134fbc43",
   "metadata": {},
   "source": [
    "Критическое значение при α/2 = 0.025 и числа степеней свободы k = 9: t_крит = 2.262\n",
    "\n",
    "Поскольку |t| < t_крит, принимается гипотеза Н0, т.е. ***среднее значение размеров изделий = 2,5 см*** "
   ]
  }
 ],
 "metadata": {
  "kernelspec": {
   "display_name": "Python 3 (ipykernel)",
   "language": "python",
   "name": "python3"
  },
  "language_info": {
   "codemirror_mode": {
    "name": "ipython",
    "version": 3
   },
   "file_extension": ".py",
   "mimetype": "text/x-python",
   "name": "python",
   "nbconvert_exporter": "python",
   "pygments_lexer": "ipython3",
   "version": "3.9.13"
  }
 },
 "nbformat": 4,
 "nbformat_minor": 5
}
